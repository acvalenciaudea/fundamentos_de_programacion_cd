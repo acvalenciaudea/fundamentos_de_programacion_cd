{
 "cells": [
  {
   "cell_type": "markdown",
   "id": "9b473f37",
   "metadata": {},
   "source": [
    "# 1 .Left Rotation\n",
    "https://www.hackerrank.com/challenges/array-left-rotation/problem\n",
    "The function is expected to return an INTEGER_ARRAY.\n",
    "The function accepts following parameters:\n",
    " 1. INTEGER d\n",
    " 2. INTEGER_ARRAY arr\n",
    "#"
   ]
  },
  {
   "cell_type": "code",
   "execution_count": 2,
   "id": "5c6acbe4",
   "metadata": {},
   "outputs": [],
   "source": [
    "\n",
    "def rotateLeft(d, arr):\n",
    "    return arr[d:] + arr[:d]\n"
   ]
  },
  {
   "cell_type": "code",
   "execution_count": 3,
   "id": "12056b8c",
   "metadata": {},
   "outputs": [
    {
     "name": "stdout",
     "output_type": "stream",
     "text": [
      "[3, 4, 5, 1, 2]\n"
     ]
    }
   ],
   "source": [
    "print(rotateLeft(2, [1, 2, 3, 4, 5]))"
   ]
  }
 ],
 "metadata": {
  "kernelspec": {
   "display_name": ".venv",
   "language": "python",
   "name": "python3"
  },
  "language_info": {
   "codemirror_mode": {
    "name": "ipython",
    "version": 3
   },
   "file_extension": ".py",
   "mimetype": "text/x-python",
   "name": "python",
   "nbconvert_exporter": "python",
   "pygments_lexer": "ipython3",
   "version": "3.10.16"
  }
 },
 "nbformat": 4,
 "nbformat_minor": 5
}
