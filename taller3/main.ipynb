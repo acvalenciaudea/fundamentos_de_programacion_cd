{
 "cells": [
  {
   "cell_type": "markdown",
   "id": "8af10726",
   "metadata": {},
   "source": [
    "# Taller 3: Analisis de Dataset"
   ]
  },
  {
   "cell_type": "code",
   "execution_count": null,
   "id": "99b980d0",
   "metadata": {},
   "outputs": [
    {
     "name": "stdout",
     "output_type": "stream",
     "text": [
      "Path to dataset files: /Users/camilo/.cache/kagglehub/datasets/sanskar21072005/amazon-best-sellers-2025/versions/1\n"
     ]
    }
   ],
   "source": []
  },
  {
   "cell_type": "code",
   "execution_count": null,
   "id": "0e465454",
   "metadata": {},
   "outputs": [],
   "source": []
  }
 ],
 "metadata": {
  "kernelspec": {
   "display_name": ".venv",
   "language": "python",
   "name": "python3"
  },
  "language_info": {
   "codemirror_mode": {
    "name": "ipython",
    "version": 3
   },
   "file_extension": ".py",
   "mimetype": "text/x-python",
   "name": "python",
   "nbconvert_exporter": "python",
   "pygments_lexer": "ipython3",
   "version": "3.10.16"
  }
 },
 "nbformat": 4,
 "nbformat_minor": 5
}
