{
 "cells": [
  {
   "cell_type": "markdown",
   "id": "fc7c55ed",
   "metadata": {},
   "source": [
    "# 2. Caesar Cipher\n",
    "https://www.hackerrank.com/challenges/caesar-cipher-1/problem\n",
    "The function is expected to return an INTEGER_ARRAY.\n",
    "The function accepts following parameters:\n",
    " 1. s: clean message\n",
    " 2. k: number of letters to rotate"
   ]
  },
  {
   "cell_type": "code",
   "execution_count": 2,
   "id": "f75c8c9a",
   "metadata": {},
   "outputs": [],
   "source": [
    "\n",
    "def matchingStrings(s, k):\n",
    "    alphabet = \"abcdefghijklmnopqrstuvwxyz\"\n",
    "    rotate = k % len(alphabet)\n",
    "    alphabet_rotated = alphabet[rotate:] + alphabet[:rotate]\n",
    "    result = \"\"\n",
    "\t\n",
    "    for char in s:\n",
    "        lower_char = char.lower()\n",
    "        if lower_char in alphabet:\n",
    "            index = alphabet.index(lower_char)\n",
    "            code = alphabet_rotated[index]\n",
    "            result += code if char.islower() else code.upper()\n",
    "        else:\n",
    "            result += char\n",
    "            \n",
    "    return result\n",
    "\n"
   ]
  },
  {
   "cell_type": "code",
   "execution_count": 4,
   "id": "ebcaaadf",
   "metadata": {},
   "outputs": [
    {
     "name": "stdout",
     "output_type": "stream",
     "text": [
      "okffng-Qwvb\n",
      "D3q4\n",
      "1Y7U4WsDt23l4ww08E6zR3T19H4sWQ188N9bivyC6k1uNHAt1n10fz7fVk62XW2fyMU4D83am7R80N\n",
      "fff.jkl.gh\n"
     ]
    }
   ],
   "source": [
    "\n",
    "print(matchingStrings(\"middle-Outz\", 2))\n",
    "print(matchingStrings(\"D3q4\", 0))\n",
    "print(matchingStrings(\"1X7T4VrCs23k4vv08D6yQ3S19G4rVP188M9ahuxB6j1tMGZs1m10ey7eUj62WV2exLT4C83zl7Q80M\", 27))\n",
    "print(matchingStrings(\"www.abc.xy\", 87))\n"
   ]
  }
 ],
 "metadata": {
  "kernelspec": {
   "display_name": ".venv",
   "language": "python",
   "name": "python3"
  },
  "language_info": {
   "codemirror_mode": {
    "name": "ipython",
    "version": 3
   },
   "file_extension": ".py",
   "mimetype": "text/x-python",
   "name": "python",
   "nbconvert_exporter": "python",
   "pygments_lexer": "ipython3",
   "version": "3.10.16"
  }
 },
 "nbformat": 4,
 "nbformat_minor": 5
}
